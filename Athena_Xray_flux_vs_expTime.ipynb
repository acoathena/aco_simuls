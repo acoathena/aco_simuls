{
 "cells": [
  {
   "cell_type": "markdown",
   "metadata": {},
   "source": [
    "#  Athena Flux and Counts Determination\n",
    "\n",
    "This program determines the flux sensitivity in a given energy band for a given instrument of the Athena X-ray mission as a function of exposure time\n",
    "\n",
    "Authors: F.J. Carrera, S. Martínez-Núñez\n",
    "\n",
    "**Athena Community Office**  \n",
    "**Instituto de Física de Cantabria (CSIC-UC)**  \n",
    "Funded by Agencia Estatal de Investigación, Unidad de Excelencia María de Maeztu, ref. MDM-2017-0765  \n",
    "Funded by the Spanish Ministry MCIU under project RTI2018-096686-B-C21 (MCIU/AEI/FEDER, UE), co-funded by FEDER funds.  \n",
    "\n",
    "![logos](logos/logos_small.png)\n",
    "\n",
    ">__LICENSE__: This is free software: you can redistribute it and/or modify it under the terms of the  \n",
    ">GNU General Public License as published by the Free Software Foundation, either version  \n",
    ">3 of the License, or any later version. This software is distributed in the hope that it  \n",
    ">will be useful, but WITHOUT ANY WARRANTY; without even the implied warranty of  \n",
    ">MERCHANTABILITY or FITNESS FOR A PARTICULAR PURPOSE.  \n",
    ">See the GNU General Public License for more details.  \n",
    ">For a copy of the GNU General Public License see <http://www.gnu.org/licenses/>.\n",
    "\n",
    "## Input Parameters:\n",
    "\n",
    "* __rmffile__ (str): Filename with full path of the response file for the source spectrum  \n",
    "* __arffile__ (str): Filename with full path of the auxiliary matrix file for the source spectrum  \n",
    "* __bgdfile__ (str): Filename with full path of sum background spectrum that it includes all components  \n",
    "* __HEW__ (float): HEW of the PSF in arcsec (default 5.7, WFI Field of View average for on-axis HEW=5 arcsec, for X-IFU or WFI on axis use 5 arcsec)  \n",
    "* __fHEW__ (float): Extraction radius for the source in units of fraction of the HEW (default=1.0)   \n",
    "* __bgdArea__ (float): Backtround extraction area (arcsec2, default 78.54)  \n",
    "* __prob__ (float): Detection significance for limits (default=1-1e6)  \n",
    "* __Emin__ (float): Lower bound of the energy interval (keV, default 2.0)  \n",
    "* __Emax__ (float): Upper bound of the energy interval (keV, default 10.0)  \n",
    "* __NHGal__ (float): Foreground Galactic column density (1e22 cm-2, default 0.018)  \n",
    "* __NH__ (float): Column density (1e22cm-2, default 0.020)  \n",
    "* __Gamma__ (float): Power law photon index (default 2.0)  \n",
    "* __z__ (float): Redshift (default 0)  \n",
    "* __tmin__ (float): Minimum value of the exposure time (s; default=1e2)  \n",
    "* __tmax__ (float): Maximum value of the exposure time (s; default=1e8)  \n",
    "* __nt__ (int): Number of exposure time values to explore (default=100)  \n",
    "* __SXlim__ (float): Confusion flux hard limit (cgs, default 2.e-17 appropriate for 0.5-2 keV, for 2-10 keV use instead 1.21e-16 -James Aird, private communication-). This limit is a conservative assumption for the limit achieved over the entire field-of-view in the 0.5-2keV band. Different limits should be adopted depending on the desired sensitivity. \n",
    "* __outfile__ (str): Filename with the output exposure time and flux limits (default 'outfile.txt')  \n",
    "* __pngfile__ (str): Filename with a plot with the above values (default 'pngfile.png')  \n",
    "\n",
    "## Processing steps:\n",
    "    \n",
    "   1. Importing libraries  \n",
    "   2. Defining input parameters, derived parameters and Xspec parameters  \n",
    "   3. Gettting background count rate in the reference band normalized to the source area  \n",
    "   4. Determining counts, flux (cgs units - erg cm-2 s-1 -), confusion flux (cgs), optimum extraction flux (cgs) & optimum extraction radius (arcsec) in the reference band over a loop of exposure times  \n",
    "   5. Output file with results: the information provided by the outpufile comprises: Time_s, Flux_cgs, Flux_confusion_cgs, FluxOptimumExtraction_cgs & RadiusOptimumExtraction_arcsec  \n",
    "   6. Plotting limiting sensitivity vs exposure time.  \n",
    "      \n",
    "## Running the notebook from the command line\n",
    "\n",
    "To run this notebook from the command line, use the script <code>execute_notebook.py</code>:\n",
    "\n",
    "  1. Install ``papermill`` (https://papermill.readthedocs.io/en/latest/)  \n",
    "  2. Select the apropriate parameters in the script  ``execute_notebook_inpars.py`` or read them from the command line using ``execute_notebook_outpars.py``  \n",
    "  3. Run in command line  \n",
    "       <code> > python execute_notebook_inpars.py </code>  \n",
    "      or  \n",
    "      <code> > python execute_notebook_outpars.py --rmffile my.rmf --arffile my.arf --bgdfile my.bgdfile ...... </code>  \n",
    "   \n",
    "\n",
    "### Examples:\n",
    "\n",
    "   1. Athena/WFI point source, FoV-averaged (0.5-2 keV): \n",
    "    \n",
    "    ``> python execute_notebook_outpars.py --rmffile athena_wfi_rib2.3_B4C_20210218_wo_filter_FovAvg.rsp``  \n",
    "    ``--arffile \" \" --bgdfile athena_wfi_rib2.3_B4C_20210329_bkgd_sum_psf_wo_filter_FovAvg.pha --HEW 5.7``  \n",
    "    ``--fHEW 0.67 --bgdArea 78.54 --prob 0.999999 --Emin 0.5 --Emax 2.0 --NHGal 0.018 --NH 0.020 ``  \n",
    "    ``--Gamma 2.0 --z 6.0 --tmin 1e2 --tmax 1e8 --nt 100 --SXlim 2.0e-17 ``  \n",
    "    ``--outfile FluxvsTexp_bgd_WFI_05_2keV.topcat --pngfile FluxvsTexp_bgd_WFI_05_2keV.png``  \n",
    "    \n",
    "  \n",
    "   2. Athena/WFI point source on-axis (2-10 keV):\n",
    "    \n",
    "    ``> python execute_notebook_outpars.py --rmffile athena_wfi_rib2.3_B4C_20210218_wo_filter_OnAxis.rsp``  \n",
    "    ``--arffile \" \" --bgdfile athena_wfi_rib2.3_B4C_20210329_bkgd_sum_psf_wo_filter_OnAxis.pha --HEW 5.7``  \n",
    "    ``--fHEW 0.67 --bgdArea 78.54 --prob 0.999999 --Emin 2.0 --Emax 10.0 --NHGal 0.018 --NH 0.020 ``  \n",
    "    ``--Gamma 2.0 --z 6.0 --tmin 1e2 --tmax 1e8 --nt 100 --SXlim 1.21e-16 ``  \n",
    "    ``--outfile FluxvsTexp_bgd_WFI_2_10keV.topcat --pngfile FluxvsTexp_bgd_WFI_2_10keV.png``   \n",
    "    \n",
    "    \n",
    "   3. Athena/X-IFU point source (0.5-2 keV):\n",
    "    \n",
    "    ``> python execute_notebook_outpars.py --rmffile XIFU_CC_BASELINECONF_2018_10_10.rmf ``  \n",
    "    ``--arffile XIFU_CC_BASELINECONF_2018_10_10.arf ``  \n",
    "    ``--bgdfile Total_pointsources_XIFU_CC_BASELINECONF_2018_10_10.pha --HEW 5.7``  \n",
    "    ``--fHEW 0.67 --bgdArea 78.54 --prob 0.999999 --Emin 0.5 --Emax 2.0 --NHGal 0.018 --NH 0.020 ``  \n",
    "    ``--Gamma 2.0 --z 6.0 --tmin 1e2 --tmax 1e8 --nt 100 --SXlim 2.0e-17 ``  \n",
    "    ``--outfile FluxvsTexp_bgd_XIFU_05_2keV.topcat --pngfile FluxvsTexp_bgd_XIFU_05_2keV.png``   \n",
    "    \n",
    "    \n",
    "### Instruments files (response matrices and background files): \n",
    "    \n",
    "   * Athena/WFI: https://www.mpe.mpg.de/ATHENA-WFI/response_matrices.html\n",
    "   * Athena/X-IFU: http://x-ifu.irap.omp.eu/resources-for-users-and-x-ifu-consortium-members\n",
    "    \n",
    "\n",
    "### References for XSPEC\n",
    "\n",
    "   * XSPEC quick tutorial https://heasarc.gsfc.nasa.gov/docs/xanadu/xspec/python/html/quick.html  \n",
    "   * XSPEC extended tutorial https://heasarc.gsfc.nasa.gov/docs/xanadu/xspec/python/html/extended.html  \n",
    "   * XSPEC class reference https://heasarc.gsfc.nasa.gov/docs/xanadu/xspec/python/html/classes.html  \n",
    "   * XSPEC python interface documentation https://heasarc.gsfc.nasa.gov/docs/xanadu/xspec/python/PyXspec.pdf  \n"
   ]
  },
  {
   "cell_type": "markdown",
   "metadata": {},
   "source": [
    "# Importing libraries"
   ]
  },
  {
   "cell_type": "code",
   "execution_count": 1,
   "metadata": {},
   "outputs": [],
   "source": [
    "import sys\n",
    "import argparse\n",
    "import datetime\n",
    "\n",
    "import numpy as np\n",
    "from scipy.optimize import root,minimize_scalar\n",
    "from matplotlib import pyplot as plt\n",
    "import matplotlib as mpl\n",
    "from enclosed_energy_fraction import eef\n",
    "from getModel import getModelCR, getModelFlux, getModelLum\n",
    "from stats import gammainc_here\n",
    "from SXdet import SXdet_f\n",
    "\n",
    "from xspec import *"
   ]
  },
  {
   "cell_type": "markdown",
   "metadata": {},
   "source": [
    "# Initial Status and output definition"
   ]
  },
  {
   "cell_type": "code",
   "execution_count": 81,
   "metadata": {},
   "outputs": [
    {
     "name": "stdout",
     "output_type": "stream",
     "text": [
      "\n",
      "\n",
      " Starting Athena_Xray_Flux_vs_expTime at 09/06/2021:15:45:16\n",
      "\n",
      "\n"
     ]
    }
   ],
   "source": [
    "progname = \"Athena_Xray_flux_vs_expTime\"\n",
    "start=datetime.datetime.now()\n",
    "strstart=start.strftime(\"%d/%m/%Y:%H:%M:%S\")\n",
    "print('\\n\\n Starting Athena_Xray_Flux_vs_expTime at {}\\n\\n'.format(strstart))"
   ]
  },
  {
   "cell_type": "markdown",
   "metadata": {},
   "source": [
    "# Parameter values\n",
    "\n",
    "Parameters: they can be modified in command line or in external python script"
   ]
  },
  {
   "cell_type": "markdown",
   "metadata": {},
   "source": [
    "## Default parameters"
   ]
  },
  {
   "cell_type": "code",
   "execution_count": 1,
   "metadata": {
    "tags": [
     "parameters"
    ]
   },
   "outputs": [],
   "source": [
    "rmffile = None  # Filename with full path of the response file for the source spectrum\n",
    "arffile = None  # Filename with full path of the auxiliary matrix file for the source spectrum\n",
    "bgdfile = None  # Filename with full path of background spectrum\n",
    "HEW = 5.7        # HEW of the PSF in arcsec\n",
    "fHEW = 0.67      # Extraction radius for the source in units of fraction of the HEW\n",
    "bgdArea = 78.54  # Background extraction area (arcsec2)\n",
    "prob = 0.999999  # Detection probability for limits (default=1-1e6, [0,1])\n",
    "Emin = 2.0       # Lower bound of the energy interval (keV)\n",
    "Emax = 10.0      # Upper bound of the energy interval (keV)\n",
    "NHGal = 0.018    # Foreground Galactic column density (1e22 cm-2)\n",
    "NH = 0.020       # Column density (1e22cm-2)\n",
    "Gamma = 2.0      # Power law photon index \n",
    "z = 0.           # Redshift \n",
    "tmin = 1.e2      # Minimum value of the exposure time (s)\n",
    "tmax = 1.e8      # Maximum value of the exposure time (s)\n",
    "nt = 100         # Number of exposure time values to explore\n",
    "SXlim = 1.21e-16 # Confusion flux limit (cgs)\n",
    "outfile = 'outfile.txt' # Filename with the output exposure time and flux limits\n",
    "pngfile = 'pngfile.png'    # Filename with a plot with the above values "
   ]
  },
  {
   "cell_type": "markdown",
   "metadata": {},
   "source": [
    "## Derived parameters"
   ]
  },
  {
   "cell_type": "code",
   "execution_count": 94,
   "metadata": {},
   "outputs": [
    {
     "name": "stdout",
     "output_type": "stream",
     "text": [
      "\n",
      "\n",
      " Source extraction radius=3.8190000000000004 arcsec  EEF=0.7119482355759181\n"
     ]
    }
   ],
   "source": [
    "norm=1.0\n",
    "radius=fHEW*HEW \n",
    "sourceArea=np.pi*radius**2\n",
    "EEF=eef(radius,HEW)\n",
    "\n",
    "print('\\n\\n Source extraction radius={} arcsec  EEF={}'.format(radius,EEF))"
   ]
  },
  {
   "cell_type": "markdown",
   "metadata": {},
   "source": [
    "## Xspec parameters\n",
    "\n",
    "Definition of Xspec parameters: console chatter level; log chatter level; abundance table; set cosmological values; set the photoelectric absorption cross-section to bcmc; add a key - value pair of strings to XSPEC's internal database; xAxis units for plotting; and plotting device "
   ]
  },
  {
   "cell_type": "code",
   "execution_count": 3,
   "metadata": {},
   "outputs": [],
   "source": [
    "# initialize XSPEC parameters\n",
    "Xset.chatter=0\n",
    "Xset.logChatter=0\n",
    "\n",
    "Xset.abund=\"angr\"\n",
    "Xset.cosmo=\"70 0 0.73\"\n",
    "Xset.xsect=\"bcmc\"\n",
    "Xset.addModelString(\"APECROOT\",\"3.0.9\")\n",
    "\n",
    "Plot.device='/NULL'\n",
    "Plot.xAxis='keV'"
   ]
  },
  {
   "cell_type": "markdown",
   "metadata": {},
   "source": [
    "# Background count rate \n",
    "\n",
    "Gets background count rate in the reference band normalized to the source area"
   ]
  },
  {
   "cell_type": "code",
   "execution_count": 4,
   "metadata": {},
   "outputs": [
    {
     "name": "stdout",
     "output_type": "stream",
     "text": [
      "bgdfile= None\n"
     ]
    },
    {
     "ename": "Exception",
     "evalue": "Error: Data file name is required.",
     "output_type": "error",
     "traceback": [
      "\u001b[0;31m---------------------------------------------------------------------------\u001b[0m",
      "\u001b[0;31mException\u001b[0m                                 Traceback (most recent call last)",
      "\u001b[0;32m<ipython-input-4-62972c1a0595>\u001b[0m in \u001b[0;36m<module>\u001b[0;34m\u001b[0m\n\u001b[1;32m      2\u001b[0m \u001b[0mAllModels\u001b[0m\u001b[0;34m.\u001b[0m\u001b[0mclear\u001b[0m\u001b[0;34m(\u001b[0m\u001b[0;34m)\u001b[0m\u001b[0;34m\u001b[0m\u001b[0;34m\u001b[0m\u001b[0m\n\u001b[1;32m      3\u001b[0m \u001b[0mprint\u001b[0m\u001b[0;34m(\u001b[0m\u001b[0;34m\"bgdfile=\"\u001b[0m\u001b[0;34m,\u001b[0m \u001b[0mbgdfile\u001b[0m\u001b[0;34m)\u001b[0m\u001b[0;34m\u001b[0m\u001b[0;34m\u001b[0m\u001b[0m\n\u001b[0;32m----> 4\u001b[0;31m \u001b[0ms1\u001b[0m \u001b[0;34m=\u001b[0m \u001b[0mSpectrum\u001b[0m\u001b[0;34m(\u001b[0m\u001b[0mbgdfile\u001b[0m\u001b[0;34m)\u001b[0m\u001b[0;34m\u001b[0m\u001b[0;34m\u001b[0m\u001b[0m\n\u001b[0m\u001b[1;32m      5\u001b[0m \u001b[0mstr_min\u001b[0m \u001b[0;34m=\u001b[0m \u001b[0;34m\"**-\"\u001b[0m \u001b[0;34m+\u001b[0m \u001b[0mstr\u001b[0m\u001b[0;34m(\u001b[0m\u001b[0mEmin\u001b[0m\u001b[0;34m)\u001b[0m\u001b[0;34m\u001b[0m\u001b[0;34m\u001b[0m\u001b[0m\n\u001b[1;32m      6\u001b[0m \u001b[0mstr_max\u001b[0m \u001b[0;34m=\u001b[0m \u001b[0mstr\u001b[0m\u001b[0;34m(\u001b[0m\u001b[0mEmax\u001b[0m\u001b[0;34m)\u001b[0m \u001b[0;34m+\u001b[0m \u001b[0;34m\"-**\"\u001b[0m\u001b[0;34m\u001b[0m\u001b[0;34m\u001b[0m\u001b[0m\n",
      "\u001b[0;32m~/soft/heasoft-6.28/x86_64-pc-linux-gnu-libc2.31/lib/python/xspec/spectrum.py\u001b[0m in \u001b[0;36m__init__\u001b[0;34m(self, dataFile)\u001b[0m\n\u001b[1;32m    167\u001b[0m             \u001b[0mself\u001b[0m\u001b[0;34m.\u001b[0m\u001b[0m__handle\u001b[0m \u001b[0;34m=\u001b[0m \u001b[0mdataFile\u001b[0m\u001b[0;34m\u001b[0m\u001b[0;34m\u001b[0m\u001b[0m\n\u001b[1;32m    168\u001b[0m         \u001b[0;32melse\u001b[0m\u001b[0;34m:\u001b[0m\u001b[0;34m\u001b[0m\u001b[0;34m\u001b[0m\u001b[0m\n\u001b[0;32m--> 169\u001b[0;31m             \u001b[0mself\u001b[0m\u001b[0;34m.\u001b[0m\u001b[0m__handle\u001b[0m \u001b[0;34m=\u001b[0m \u001b[0m_pyXspec\u001b[0m\u001b[0;34m.\u001b[0m\u001b[0mreadSpectrum\u001b[0m\u001b[0;34m(\u001b[0m\u001b[0mdataFile\u001b[0m\u001b[0;34m)\u001b[0m\u001b[0;34m\u001b[0m\u001b[0;34m\u001b[0m\u001b[0m\n\u001b[0m\u001b[1;32m    170\u001b[0m         \u001b[0mself\u001b[0m\u001b[0;34m.\u001b[0m\u001b[0m__detArray\u001b[0m \u001b[0;34m=\u001b[0m \u001b[0m_DetArrayEmulator\u001b[0m\u001b[0;34m(\u001b[0m\u001b[0mself\u001b[0m\u001b[0;34m.\u001b[0m\u001b[0m__handle\u001b[0m\u001b[0;34m)\u001b[0m\u001b[0;34m\u001b[0m\u001b[0;34m\u001b[0m\u001b[0m\n\u001b[1;32m    171\u001b[0m         \u001b[0mspecIdx\u001b[0m \u001b[0;34m=\u001b[0m \u001b[0m_pyXspec\u001b[0m\u001b[0;34m.\u001b[0m\u001b[0mgetIndexFromHandle\u001b[0m\u001b[0;34m(\u001b[0m\u001b[0mself\u001b[0m\u001b[0;34m.\u001b[0m\u001b[0m__handle\u001b[0m\u001b[0;34m)\u001b[0m\u001b[0;34m\u001b[0m\u001b[0;34m\u001b[0m\u001b[0m\n",
      "\u001b[0;31mException\u001b[0m: Error: Data file name is required."
     ]
    }
   ],
   "source": [
    "AllData.clear()\n",
    "AllModels.clear()\n",
    "print(\"bgdfile=\", bgdfile)\n",
    "s1 = Spectrum(bgdfile)\n",
    "str_min = \"**-\" + str(Emin)\n",
    "str_max = str(Emax) + \"-**\"\n",
    "s1.ignore(str_min)\n",
    "s1.ignore(str_max)\n",
    "(net_rate, net_rate_var, total_rate, model_rate) = s1.rate\n",
    "expos = s1.exposure\n",
    "\n",
    "CRbgd=total_rate*sourceArea/bgdArea\n",
    "print('\\n\\nBackground countrate={}, normalized to source area={}'.format(total_rate,CRbgd))\n",
    "\n",
    "AllData.clear()\n",
    "AllModels.clear()"
   ]
  },
  {
   "cell_type": "markdown",
   "metadata": {},
   "source": [
    "# Count rates and fluxes for the default model\n",
    "\n",
    "Using model <code> pha * zpha * zpow </code> calculate cont rate and flux in the selected energy band"
   ]
  },
  {
   "cell_type": "code",
   "execution_count": 5,
   "metadata": {},
   "outputs": [
    {
     "ename": "NameError",
     "evalue": "name 'norm' is not defined",
     "output_type": "error",
     "traceback": [
      "\u001b[0;31m---------------------------------------------------------------------------\u001b[0m",
      "\u001b[0;31mNameError\u001b[0m                                 Traceback (most recent call last)",
      "\u001b[0;32m<ipython-input-5-ef5e96985a06>\u001b[0m in \u001b[0;36m<module>\u001b[0;34m\u001b[0m\n\u001b[1;32m      2\u001b[0m \u001b[0;34m\u001b[0m\u001b[0m\n\u001b[1;32m      3\u001b[0m \u001b[0mintervalsCR\u001b[0m\u001b[0;34m=\u001b[0m\u001b[0;34m[\u001b[0m\u001b[0;34m[\u001b[0m\u001b[0mEmin\u001b[0m\u001b[0;34m,\u001b[0m\u001b[0mEmax\u001b[0m\u001b[0;34m]\u001b[0m\u001b[0;34m]\u001b[0m\u001b[0;34m\u001b[0m\u001b[0;34m\u001b[0m\u001b[0m\n\u001b[0;32m----> 4\u001b[0;31m \u001b[0mpars\u001b[0m\u001b[0;34m=\u001b[0m\u001b[0;34m[\u001b[0m\u001b[0mNHGal\u001b[0m\u001b[0;34m,\u001b[0m\u001b[0mNH\u001b[0m\u001b[0;34m,\u001b[0m\u001b[0mz\u001b[0m\u001b[0;34m,\u001b[0m\u001b[0mGamma\u001b[0m\u001b[0;34m,\u001b[0m\u001b[0mz\u001b[0m\u001b[0;34m,\u001b[0m\u001b[0mnorm\u001b[0m\u001b[0;34m]\u001b[0m\u001b[0;34m\u001b[0m\u001b[0;34m\u001b[0m\u001b[0m\n\u001b[0m\u001b[1;32m      5\u001b[0m \u001b[0mCR1\u001b[0m\u001b[0;34m=\u001b[0m\u001b[0mgetModelCR\u001b[0m\u001b[0;34m(\u001b[0m\u001b[0mAllModels\u001b[0m\u001b[0;34m,\u001b[0m\u001b[0mAllData\u001b[0m\u001b[0;34m,\u001b[0m\u001b[0mmodel\u001b[0m\u001b[0;34m,\u001b[0m\u001b[0mpars\u001b[0m\u001b[0;34m,\u001b[0m\u001b[0mrmffile\u001b[0m\u001b[0;34m,\u001b[0m\u001b[0marffile\u001b[0m\u001b[0;34m,\u001b[0m\u001b[0mintervalsCR\u001b[0m\u001b[0;34m)\u001b[0m\u001b[0;34m[\u001b[0m\u001b[0;36m0\u001b[0m\u001b[0;34m]\u001b[0m\u001b[0;34m\u001b[0m\u001b[0;34m\u001b[0m\u001b[0m\n\u001b[1;32m      6\u001b[0m \u001b[0mprint\u001b[0m\u001b[0;34m(\u001b[0m\u001b[0;34m'\\n\\n Countrate for unit normalization (ct/s) CR1={}'\u001b[0m\u001b[0;34m.\u001b[0m\u001b[0mformat\u001b[0m\u001b[0;34m(\u001b[0m\u001b[0mCR1\u001b[0m\u001b[0;34m)\u001b[0m\u001b[0;34m)\u001b[0m\u001b[0;34m\u001b[0m\u001b[0;34m\u001b[0m\u001b[0m\n",
      "\u001b[0;31mNameError\u001b[0m: name 'norm' is not defined"
     ]
    }
   ],
   "source": [
    "model='pha*zpha*zpow'\n",
    "\n",
    "intervalsCR=[[Emin,Emax]]\n",
    "pars=[NHGal,NH,z,Gamma,z,norm]\n",
    "CR1=getModelCR(AllModels,AllData,model,pars,rmffile,arffile,intervalsCR)[0]\n",
    "print('\\n\\n Countrate for unit normalization (ct/s) CR1={}'.format(CR1))\n",
    "\n",
    "intervalsFlux=[[Emin,Emax]]\n",
    "pars=[0.0,NH,z,Gamma,z,norm]\n",
    "SX1=getModelFlux(AllModels,model,pars,intervalsFlux)[0]\n",
    "print('\\n\\nFlux for unit normalization (cgs) SX={} '.format(SX1))"
   ]
  },
  {
   "cell_type": "markdown",
   "metadata": {},
   "source": [
    "# Flux calculation \n",
    "\n",
    "For different exposure times, calculate:  \n",
    "__SXdet__: detection flux  \n",
    "__SXdetconf__: detection flux taking into account the input confusion limit  \n",
    "__SXopt__: detection flux using the extraction region that maximises the signal-to-noise ratio  \n",
    "__ropt__: radius of a circular extraction region that would maximise the signal-to-noise-ratio  "
   ]
  },
  {
   "cell_type": "code",
   "execution_count": 6,
   "metadata": {},
   "outputs": [
    {
     "ename": "NameError",
     "evalue": "name 'total_rate' is not defined",
     "output_type": "error",
     "traceback": [
      "\u001b[0;31m---------------------------------------------------------------------------\u001b[0m",
      "\u001b[0;31mNameError\u001b[0m                                 Traceback (most recent call last)",
      "\u001b[0;32m<ipython-input-6-577731feff09>\u001b[0m in \u001b[0;36m<module>\u001b[0;34m\u001b[0m\n\u001b[1;32m      6\u001b[0m \u001b[0mropts\u001b[0m\u001b[0;34m=\u001b[0m\u001b[0;34m[\u001b[0m\u001b[0;34m]\u001b[0m\u001b[0;34m\u001b[0m\u001b[0;34m\u001b[0m\u001b[0m\n\u001b[1;32m      7\u001b[0m \u001b[0;32mfor\u001b[0m \u001b[0mt\u001b[0m \u001b[0;32min\u001b[0m \u001b[0mts\u001b[0m\u001b[0;34m:\u001b[0m\u001b[0;34m\u001b[0m\u001b[0;34m\u001b[0m\u001b[0m\n\u001b[0;32m----> 8\u001b[0;31m     \u001b[0mSXdet\u001b[0m\u001b[0;34m=\u001b[0m\u001b[0mSXdet_f\u001b[0m\u001b[0;34m(\u001b[0m\u001b[0mfHEW\u001b[0m\u001b[0;34m,\u001b[0m\u001b[0mt\u001b[0m\u001b[0;34m,\u001b[0m\u001b[0mHEW\u001b[0m\u001b[0;34m,\u001b[0m\u001b[0mtotal_rate\u001b[0m\u001b[0;34m,\u001b[0m\u001b[0mbgdArea\u001b[0m\u001b[0;34m,\u001b[0m\u001b[0mCR1\u001b[0m\u001b[0;34m,\u001b[0m\u001b[0mSX1\u001b[0m\u001b[0;34m,\u001b[0m\u001b[0mprob\u001b[0m\u001b[0;34m)\u001b[0m\u001b[0;34m\u001b[0m\u001b[0;34m\u001b[0m\u001b[0m\n\u001b[0m\u001b[1;32m      9\u001b[0m     \u001b[0mSXdetconf\u001b[0m\u001b[0;34m=\u001b[0m\u001b[0mmax\u001b[0m\u001b[0;34m(\u001b[0m\u001b[0mSXdet\u001b[0m\u001b[0;34m,\u001b[0m\u001b[0mSXlim\u001b[0m\u001b[0;34m)\u001b[0m\u001b[0;34m\u001b[0m\u001b[0;34m\u001b[0m\u001b[0m\n\u001b[1;32m     10\u001b[0m     \u001b[0mSXdets\u001b[0m\u001b[0;34m.\u001b[0m\u001b[0mappend\u001b[0m\u001b[0;34m(\u001b[0m\u001b[0mSXdet\u001b[0m\u001b[0;34m)\u001b[0m\u001b[0;34m\u001b[0m\u001b[0;34m\u001b[0m\u001b[0m\n",
      "\u001b[0;31mNameError\u001b[0m: name 'total_rate' is not defined"
     ]
    }
   ],
   "source": [
    "ts=np.logspace(np.log10(tmin),np.log10(tmax),num=nt)\n",
    "#print(ts)\n",
    "SXdets=[]\n",
    "SXdetconfs=[]\n",
    "SXopts=[]\n",
    "ropts=[]\n",
    "for t in ts:\n",
    "    SXdet=SXdet_f(fHEW,t,HEW,total_rate,bgdArea,CR1,SX1,prob)\n",
    "    SXdetconf=max(SXdet,SXlim)\n",
    "    SXdets.append(SXdet)\n",
    "    SXdetconfs.append(SXdetconf)\n",
    "   \n",
    "    optim=minimize_scalar(SXdet_f,bounds=(0.5,1.5),method='bounded',\n",
    "                          args=(t,HEW,total_rate,bgdArea,CR1,SX1,prob))\n",
    "    fopt=optim.x\n",
    "    ropt=HEW*fopt\n",
    "    SXopt=optim.fun\n",
    "    ropts.append(ropt)\n",
    "    SXopts.append(SXopt)    \n",
    "\n",
    "    print('   t={:.1f}s SX={:10.4e} cgs SXconf={:10.4e} cgs'.format(t,SXdet,SXdetconf))\n",
    "    print('        Optimal values: Fraction of the HEW={:5.3f} Extraction radius (arcsec)={:6.3f} Flux sensitivity (cgs)={:9.3e}\\n'.format(fopt,ropt,SXopt))"
   ]
  },
  {
   "cell_type": "markdown",
   "metadata": {},
   "source": [
    "# Writing results\n",
    "\n",
    "Output file is created with columns:\n",
    "\n",
    "<code> Time_s  Flux_cgs  Flux_confusion_cgs FluxOptimumExtraction_cgs RadiusOptimumExtraction_arcsec </code>\n",
    "\n",
    "__Time_s__: exposure time in s  \n",
    "__Flux_cgs__: detection flux in cgs units (erc cm-2 s-1)  \n",
    "__Flux_confusion_cgs__: detection flux taking into account the input confusion limit in cgs units (erc cm-2 s-1)  \n",
    "__FluxOptimumExtraction_cgs__: detection flux using the extraction region that maximises the signal-to-noise ratio in cgs units (erc cm-2 s-1)  \n",
    "__RadiusOptimumExtraction_arcsec__: the radius of a circular extraction region that would maximise the signal-to-noise-ratio, in arcsec   "
   ]
  },
  {
   "cell_type": "code",
   "execution_count": 7,
   "metadata": {},
   "outputs": [
    {
     "ename": "ValueError",
     "evalue": "all the input array dimensions for the concatenation axis must match exactly, but along dimension 0, the array at index 0 has size 100 and the array at index 1 has size 0",
     "output_type": "error",
     "traceback": [
      "\u001b[0;31m---------------------------------------------------------------------------\u001b[0m",
      "\u001b[0;31mValueError\u001b[0m                                Traceback (most recent call last)",
      "\u001b[0;32m<ipython-input-7-89a695dd011a>\u001b[0m in \u001b[0;36m<module>\u001b[0;34m\u001b[0m\n\u001b[1;32m      3\u001b[0m \u001b[0mSXopts\u001b[0m\u001b[0;34m=\u001b[0m\u001b[0mnp\u001b[0m\u001b[0;34m.\u001b[0m\u001b[0marray\u001b[0m\u001b[0;34m(\u001b[0m\u001b[0mSXopts\u001b[0m\u001b[0;34m)\u001b[0m\u001b[0;34m\u001b[0m\u001b[0;34m\u001b[0m\u001b[0m\n\u001b[1;32m      4\u001b[0m \u001b[0mropts\u001b[0m\u001b[0;34m=\u001b[0m\u001b[0mnp\u001b[0m\u001b[0;34m.\u001b[0m\u001b[0marray\u001b[0m\u001b[0;34m(\u001b[0m\u001b[0mropts\u001b[0m\u001b[0;34m)\u001b[0m\u001b[0;34m\u001b[0m\u001b[0;34m\u001b[0m\u001b[0m\n\u001b[0;32m----> 5\u001b[0;31m np.savetxt(outfile,np.c_[ts,SXdets,SXdetconfs,SXopts,ropts],comments='#',\n\u001b[0m\u001b[1;32m      6\u001b[0m            \u001b[0mheader\u001b[0m\u001b[0;34m=\u001b[0m\u001b[0;34m' Time_s  Flux_cgs  Flux_confusion_cgs FluxOptimumExtraction_cgs RadiusOptimumExtraction_arcsec'\u001b[0m\u001b[0;34m,\u001b[0m\u001b[0;34m\u001b[0m\u001b[0;34m\u001b[0m\u001b[0m\n\u001b[1;32m      7\u001b[0m            fmt=' %9.1f  %9.3e  %9.3e  %9.3e %6.3f') \n",
      "\u001b[0;32m~/soft/anaconda3/lib/python3.8/site-packages/numpy/lib/index_tricks.py\u001b[0m in \u001b[0;36m__getitem__\u001b[0;34m(self, key)\u001b[0m\n\u001b[1;32m    404\u001b[0m                 \u001b[0mobjs\u001b[0m\u001b[0;34m[\u001b[0m\u001b[0mk\u001b[0m\u001b[0;34m]\u001b[0m \u001b[0;34m=\u001b[0m \u001b[0mobjs\u001b[0m\u001b[0;34m[\u001b[0m\u001b[0mk\u001b[0m\u001b[0;34m]\u001b[0m\u001b[0;34m.\u001b[0m\u001b[0mastype\u001b[0m\u001b[0;34m(\u001b[0m\u001b[0mfinal_dtype\u001b[0m\u001b[0;34m)\u001b[0m\u001b[0;34m\u001b[0m\u001b[0;34m\u001b[0m\u001b[0m\n\u001b[1;32m    405\u001b[0m \u001b[0;34m\u001b[0m\u001b[0m\n\u001b[0;32m--> 406\u001b[0;31m         \u001b[0mres\u001b[0m \u001b[0;34m=\u001b[0m \u001b[0mself\u001b[0m\u001b[0;34m.\u001b[0m\u001b[0mconcatenate\u001b[0m\u001b[0;34m(\u001b[0m\u001b[0mtuple\u001b[0m\u001b[0;34m(\u001b[0m\u001b[0mobjs\u001b[0m\u001b[0;34m)\u001b[0m\u001b[0;34m,\u001b[0m \u001b[0maxis\u001b[0m\u001b[0;34m=\u001b[0m\u001b[0maxis\u001b[0m\u001b[0;34m)\u001b[0m\u001b[0;34m\u001b[0m\u001b[0;34m\u001b[0m\u001b[0m\n\u001b[0m\u001b[1;32m    407\u001b[0m \u001b[0;34m\u001b[0m\u001b[0m\n\u001b[1;32m    408\u001b[0m         \u001b[0;32mif\u001b[0m \u001b[0mmatrix\u001b[0m\u001b[0;34m:\u001b[0m\u001b[0;34m\u001b[0m\u001b[0;34m\u001b[0m\u001b[0m\n",
      "\u001b[0;32m<__array_function__ internals>\u001b[0m in \u001b[0;36mconcatenate\u001b[0;34m(*args, **kwargs)\u001b[0m\n",
      "\u001b[0;31mValueError\u001b[0m: all the input array dimensions for the concatenation axis must match exactly, but along dimension 0, the array at index 0 has size 100 and the array at index 1 has size 0"
     ]
    }
   ],
   "source": [
    "SXdets=np.array(SXdets)\n",
    "SXdetconfs=np.array(SXdetconfs)\n",
    "SXopts=np.array(SXopts)\n",
    "ropts=np.array(ropts)\n",
    "np.savetxt(outfile,np.c_[ts,SXdets,SXdetconfs,SXopts,ropts],comments='#',\n",
    "           header=' Time_s  Flux_cgs  Flux_confusion_cgs FluxOptimumExtraction_cgs RadiusOptimumExtraction_arcsec',\n",
    "           fmt=' %9.1f  %9.3e  %9.3e  %9.3e %6.3f') \n",
    "print('\\n\\n {} fluxes written out to file {}'.format(nt,outfile))"
   ]
  },
  {
   "cell_type": "markdown",
   "metadata": {},
   "source": [
    "# Creating plot\n",
    "\n",
    "Plot produced: limiting sensitivity vs exposure time\n",
    "\n",
    "PNG output file created\n"
   ]
  },
  {
   "cell_type": "code",
   "execution_count": 8,
   "metadata": {},
   "outputs": [
    {
     "ename": "NameError",
     "evalue": "name 'progname' is not defined",
     "output_type": "error",
     "traceback": [
      "\u001b[0;31m---------------------------------------------------------------------------\u001b[0m",
      "\u001b[0;31mNameError\u001b[0m                                 Traceback (most recent call last)",
      "\u001b[0;32m<ipython-input-8-887984354b02>\u001b[0m in \u001b[0;36m<module>\u001b[0;34m\u001b[0m\n\u001b[1;32m      8\u001b[0m \u001b[0mplt\u001b[0m\u001b[0;34m.\u001b[0m\u001b[0mxlabel\u001b[0m\u001b[0;34m(\u001b[0m\u001b[0;34m'Exposure time (s)'\u001b[0m\u001b[0;34m,\u001b[0m\u001b[0mfontsize\u001b[0m\u001b[0;34m=\u001b[0m\u001b[0;36m14\u001b[0m\u001b[0;34m)\u001b[0m\u001b[0;34m\u001b[0m\u001b[0;34m\u001b[0m\u001b[0m\n\u001b[1;32m      9\u001b[0m \u001b[0mplt\u001b[0m\u001b[0;34m.\u001b[0m\u001b[0mylabel\u001b[0m\u001b[0;34m(\u001b[0m\u001b[0;34m'Flux limit [erg s$^{-1}$ cm$^{-2}$]'\u001b[0m\u001b[0;34m,\u001b[0m \u001b[0mfontsize\u001b[0m\u001b[0;34m=\u001b[0m\u001b[0;36m14\u001b[0m\u001b[0;34m)\u001b[0m\u001b[0;34m\u001b[0m\u001b[0;34m\u001b[0m\u001b[0m\n\u001b[0;32m---> 10\u001b[0;31m \u001b[0mplt\u001b[0m\u001b[0;34m.\u001b[0m\u001b[0mtitle\u001b[0m\u001b[0;34m(\u001b[0m\u001b[0mprogname\u001b[0m \u001b[0;34m+\u001b[0m \u001b[0;34m\" \"\u001b[0m \u001b[0;34m+\u001b[0m \u001b[0mstrstart\u001b[0m\u001b[0;34m,\u001b[0m\u001b[0mfontsize\u001b[0m\u001b[0;34m=\u001b[0m\u001b[0;36m14\u001b[0m\u001b[0;34m)\u001b[0m\u001b[0;34m\u001b[0m\u001b[0;34m\u001b[0m\u001b[0m\n\u001b[0m\u001b[1;32m     11\u001b[0m \u001b[0mplt\u001b[0m\u001b[0;34m.\u001b[0m\u001b[0mplot\u001b[0m\u001b[0;34m(\u001b[0m\u001b[0mts\u001b[0m\u001b[0;34m,\u001b[0m\u001b[0mSXdets\u001b[0m\u001b[0;34m,\u001b[0m\u001b[0;34m'k-'\u001b[0m\u001b[0;34m,\u001b[0m \u001b[0mlabel\u001b[0m\u001b[0;34m=\u001b[0m\u001b[0;34m\"Det. limit\"\u001b[0m\u001b[0;34m,\u001b[0m \u001b[0mlinewidth\u001b[0m\u001b[0;34m=\u001b[0m\u001b[0;36m2\u001b[0m\u001b[0;34m)\u001b[0m\u001b[0;34m\u001b[0m\u001b[0;34m\u001b[0m\u001b[0m\n\u001b[1;32m     12\u001b[0m \u001b[0mplt\u001b[0m\u001b[0;34m.\u001b[0m\u001b[0mplot\u001b[0m\u001b[0;34m(\u001b[0m\u001b[0mts\u001b[0m\u001b[0;34m,\u001b[0m\u001b[0mSXdetconfs\u001b[0m\u001b[0;34m,\u001b[0m\u001b[0;34m'r--'\u001b[0m\u001b[0;34m,\u001b[0m \u001b[0mlabel\u001b[0m\u001b[0;34m=\u001b[0m\u001b[0;34m\"Det. limit + confusion\"\u001b[0m\u001b[0;34m,\u001b[0m \u001b[0mlinewidth\u001b[0m\u001b[0;34m=\u001b[0m\u001b[0;36m2\u001b[0m\u001b[0;34m)\u001b[0m\u001b[0;34m\u001b[0m\u001b[0;34m\u001b[0m\u001b[0m\n",
      "\u001b[0;31mNameError\u001b[0m: name 'progname' is not defined"
     ]
    },
    {
     "data": {
      "image/png": "[encoded data removed]",
      "text/plain": [
       "<Figure size 432x288 with 1 Axes>"
      ]
     },
     "metadata": {
      "needs_background": "light"
     },
     "output_type": "display_data"
    }
   ],
   "source": [
    "mpl.rc('xtick',top=True)\n",
    "mpl.rc('xtick.minor',top=True)\n",
    "mpl.rc('ytick',right=True)\n",
    "mpl.rc('ytick.minor',right=True)\n",
    "#\n",
    "fig=plt.figure()\n",
    "plt.axes(xscale='log',yscale='log')\n",
    "plt.xlabel('Exposure time (s)',fontsize=14)\n",
    "plt.ylabel('Flux limit [erg s$^{-1}$ cm$^{-2}$]', fontsize=14)\n",
    "plt.title(progname + \" \" + strstart,fontsize=14)\n",
    "plt.plot(ts,SXdets,'k-', label=\"Det. limit\", linewidth=2)\n",
    "plt.plot(ts,SXdetconfs,'r--', label=\"Det. limit + confusion\", linewidth=2)\n",
    "plt.plot(ts,SXopts,'g:', label=\"Det. limit optimal extraction\", linewidth=2)\n",
    "plt.legend(loc='upper right', shadow=True, fontsize='x-large')\n",
    "fig.savefig(pngfile)\n",
    "print('\\n\\nPlot of limiting sensitivity vs exposure time written out to {}'.format(pngfile))       "
   ]
  },
  {
   "cell_type": "code",
   "execution_count": 101,
   "metadata": {},
   "outputs": [
    {
     "name": "stdout",
     "output_type": "stream",
     "text": [
      "\n",
      "\n",
      " Finished Athena_Xray_flux_vs_expTime at 09/06/2021:15:49:51\n",
      "   Elapsed time: 0:04:35.316999\n",
      "\n",
      "\n"
     ]
    }
   ],
   "source": [
    "end=datetime.datetime.now()\n",
    "strend=end.strftime(\"%d/%m/%Y:%H:%M:%S\")\n",
    "elapsed=end-start\n",
    "\n",
    "print('\\n\\n Finished {} at {}\\n   Elapsed time: {}\\n\\n'.format(progname,strend,elapsed))\n"
   ]
  },
  {
   "cell_type": "code",
   "execution_count": null,
   "metadata": {},
   "outputs": [],
   "source": []
  },
  {
   "cell_type": "code",
   "execution_count": null,
   "metadata": {},
   "outputs": [],
   "source": []
  }
 ],
 "metadata": {
  "celltoolbar": "Tags",
  "kernelspec": {
   "display_name": "Python 3",
   "language": "python",
   "name": "python3"
  },
  "language_info": {
   "codemirror_mode": {
    "name": "ipython",
    "version": 3
   },
   "file_extension": ".py",
   "mimetype": "text/x-python",
   "name": "python",
   "nbconvert_exporter": "python",
   "pygments_lexer": "ipython3",
   "version": "3.8.5"
  },
  "toc": {
   "base_numbering": 1,
   "nav_menu": {},
   "number_sections": true,
   "sideBar": true,
   "skip_h1_title": false,
   "title_cell": "Table of Contents",
   "title_sidebar": "Contents",
   "toc_cell": false,
   "toc_position": {
    "height": "calc(100% - 180px)",
    "left": "10px",
    "top": "150px",
    "width": "165px"
   },
   "toc_section_display": true,
   "toc_window_display": true
  },
  "varInspector": {
   "cols": {
    "lenName": 16,
    "lenType": 16,
    "lenVar": 40
   },
   "kernels_config": {
    "python": {
     "delete_cmd_postfix": "",
     "delete_cmd_prefix": "del ",
     "library": "var_list.py",
     "varRefreshCmd": "print(var_dic_list())"
    },
    "r": {
     "delete_cmd_postfix": ") ",
     "delete_cmd_prefix": "rm(",
     "library": "var_list.r",
     "varRefreshCmd": "cat(var_dic_list()) "
    }
   },
   "types_to_exclude": [
    "module",
    "function",
    "builtin_function_or_method",
    "instance",
    "_Feature"
   ],
   "window_display": false
  }
 },
 "nbformat": 4,
 "nbformat_minor": 4
}
